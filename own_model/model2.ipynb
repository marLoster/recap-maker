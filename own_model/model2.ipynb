{
 "cells": [
  {
   "cell_type": "code",
   "execution_count": 1,
   "id": "ccc2a6d6",
   "metadata": {},
   "outputs": [],
   "source": [
    "import torch\n",
    "import numpy as np\n",
    "import pandas as pd\n",
    "from torch import nn\n",
    "from torch.utils.data import DataLoader\n",
    "from torch.utils.data import Dataset\n",
    "from torchvision import datasets\n",
    "from torchvision.transforms import ToTensor\n",
    "from sklearn.model_selection import train_test_split"
   ]
  },
  {
   "cell_type": "code",
   "execution_count": 2,
   "id": "5182aded",
   "metadata": {},
   "outputs": [
    {
     "data": {
      "text/plain": [
       "True"
      ]
     },
     "execution_count": 2,
     "metadata": {},
     "output_type": "execute_result"
    }
   ],
   "source": [
    "torch.cuda.is_available()"
   ]
  },
  {
   "cell_type": "code",
   "execution_count": 3,
   "id": "7b17c81d",
   "metadata": {},
   "outputs": [],
   "source": [
    "vocab_size = len(np.load('data100keys.npy', allow_pickle=True))"
   ]
  },
  {
   "cell_type": "code",
   "execution_count": 4,
   "id": "08b03286",
   "metadata": {},
   "outputs": [],
   "source": [
    "cos = nn.CosineSimilarity(dim=0)"
   ]
  },
  {
   "cell_type": "code",
   "execution_count": 5,
   "id": "7e569a97",
   "metadata": {},
   "outputs": [],
   "source": [
    "cos1 = nn.CosineSimilarity(dim=1)"
   ]
  },
  {
   "cell_type": "code",
   "execution_count": 6,
   "id": "3e462b37",
   "metadata": {},
   "outputs": [],
   "source": [
    "train = pd.read_csv('train100.csv')"
   ]
  },
  {
   "cell_type": "code",
   "execution_count": 7,
   "id": "04ac4162",
   "metadata": {},
   "outputs": [],
   "source": [
    "def map_to_tensor(word_id):\n",
    "    word_id = word_id.split(\" \")\n",
    "    res = torch.zeros(vocab_size)\n",
    "    res[list(map(lambda x: int(x), word_id))] = 1\n",
    "    return res"
   ]
  },
  {
   "cell_type": "code",
   "execution_count": 8,
   "id": "d9302ba6",
   "metadata": {},
   "outputs": [],
   "source": [
    "class dataset_holder(Dataset):\n",
    "    def __init__(self,data):\n",
    "        self.data = data.reset_index(drop=True)\n",
    "\n",
    "    def __len__(self):\n",
    "        return len(self.data)\n",
    "\n",
    "    def __getitem__(self, idx):\n",
    "        row = self.data.iloc[idx]\n",
    "        phrase = row['phrase']\n",
    "        target = row['target']\n",
    "        wrong = row['wrong']\n",
    "\n",
    "        phrase = map_to_tensor(phrase)\n",
    "        target = map_to_tensor(target)\n",
    "        wrong = map_to_tensor(wrong)\n",
    "        \n",
    "        return phrase, target, wrong"
   ]
  },
  {
   "cell_type": "code",
   "execution_count": 9,
   "id": "b7db3d2b",
   "metadata": {},
   "outputs": [],
   "source": [
    "def custom_loss(output, correct, wrong):\n",
    "    return cos(output,wrong)*1.5 - cos(output, correct) "
   ]
  },
  {
   "cell_type": "code",
   "execution_count": 10,
   "id": "f07fd4d7",
   "metadata": {},
   "outputs": [],
   "source": [
    "def custom_loss1(output, correct, wrong):\n",
    "    return cos1(output,wrong) - cos1(output, correct) + 1"
   ]
  },
  {
   "cell_type": "code",
   "execution_count": 14,
   "id": "5c46a8fc",
   "metadata": {},
   "outputs": [],
   "source": [
    "dataset = dataset_holder(train)\n",
    "\n",
    "dataloader = DataLoader(dataset, batch_size=64, shuffle=True)"
   ]
  },
  {
   "cell_type": "code",
   "execution_count": 16,
   "id": "95e993b1",
   "metadata": {},
   "outputs": [
    {
     "name": "stdout",
     "output_type": "stream",
     "text": [
      "Using cuda device\n"
     ]
    }
   ],
   "source": [
    "\n",
    "device = (\n",
    "    \"cuda\"\n",
    "    if torch.cuda.is_available()\n",
    "    else \"mps\"\n",
    "    if torch.backends.mps.is_available()\n",
    "    else \"cpu\"\n",
    ")\n",
    "print(f\"Using {device} device\")\n",
    "\n",
    "# Define model\n"
   ]
  },
  {
   "cell_type": "code",
   "execution_count": 18,
   "id": "9c4f2d65",
   "metadata": {},
   "outputs": [],
   "source": [
    "class NeuralNetwork(nn.Module):\n",
    "    def __init__(self):\n",
    "        super().__init__()\n",
    "        self.linear_relu_stack = nn.Sequential(\n",
    "            nn.Linear(vocab_size, 4096),\n",
    "            nn.ReLU(),\n",
    "            nn.Linear(4096, 2048),\n",
    "            nn.ReLU(),\n",
    "            nn.Linear(2048, 1024),\n",
    "            nn.ReLU(),\n",
    "            nn.Linear(1024, 512),\n",
    "            nn.Tanh()\n",
    "        )\n",
    "\n",
    "    def forward(self, x):\n",
    "        logits = self.linear_relu_stack(x)\n",
    "        return logits\n"
   ]
  },
  {
   "cell_type": "code",
   "execution_count": 34,
   "id": "2244fdfb",
   "metadata": {},
   "outputs": [
    {
     "name": "stdout",
     "output_type": "stream",
     "text": [
      "NeuralNetwork(\n",
      "  (linear_relu_stack): Sequential(\n",
      "    (0): Linear(in_features=9395, out_features=4096, bias=True)\n",
      "    (1): ReLU()\n",
      "    (2): Linear(in_features=4096, out_features=2048, bias=True)\n",
      "    (3): ReLU()\n",
      "    (4): Linear(in_features=2048, out_features=1024, bias=True)\n",
      "    (5): ReLU()\n",
      "    (6): Linear(in_features=1024, out_features=512, bias=True)\n",
      "    (7): Tanh()\n",
      "  )\n",
      ")\n"
     ]
    }
   ],
   "source": [
    "model = NeuralNetwork().to(device)\n",
    "print(model)\n",
    "\n",
    "loss_fn = custom_loss\n",
    "optimizer = torch.optim.Adam(model.parameters(), lr=1e-3)"
   ]
  },
  {
   "cell_type": "code",
   "execution_count": 35,
   "id": "22de6945",
   "metadata": {},
   "outputs": [
    {
     "data": {
      "text/plain": [
       "430167.875"
      ]
     },
     "execution_count": 35,
     "metadata": {},
     "output_type": "execute_result"
    }
   ],
   "source": [
    "27530744/64"
   ]
  },
  {
   "cell_type": "code",
   "execution_count": 36,
   "id": "72ed715a",
   "metadata": {},
   "outputs": [],
   "source": [
    "import os"
   ]
  },
  {
   "cell_type": "code",
   "execution_count": 37,
   "id": "ccc8f697",
   "metadata": {},
   "outputs": [],
   "source": [
    "def training(dataloader, model, loss_fn, optimizer):\n",
    "    size = len(dataloader.dataset)\n",
    "    model.train()\n",
    "    for batch, (current, right, wrong) in enumerate(dataloader):\n",
    "        current, right, wrong = current.to(device), right.to(device), wrong.to(device)\n",
    "\n",
    "        # Compute prediction error\n",
    "        pred = model(current)\n",
    "        pred_right = model(right)\n",
    "        \n",
    "        loss = (-cos1(pred, pred_right)).sum()\n",
    "        \n",
    "        loss.backward()\n",
    "        optimizer.step()\n",
    "        optimizer.zero_grad()\n",
    "        \n",
    "        pred = model(current)\n",
    "        pred_wrong = model(wrong)\n",
    "        \n",
    "        #print(pred)\n",
    "        #print(pred_wrong)\n",
    "        #print(cos1(pred, pred_wrong))\n",
    "        loss2 = (1.5*cos1(pred, pred_wrong)).sum()\n",
    "        \n",
    "        loss2.backward()\n",
    "        optimizer.step()\n",
    "        optimizer.zero_grad()\n",
    "\n",
    "        if batch % 2000 == 0:\n",
    "            print(batch, loss.item(), loss2.item())\n",
    "            torch.save(model.state_dict(), f\"model2_{batch}.pth\")\n"
   ]
  },
  {
   "cell_type": "code",
   "execution_count": 38,
   "id": "42d8dd76",
   "metadata": {
    "scrolled": false
   },
   "outputs": [
    {
     "name": "stdout",
     "output_type": "stream",
     "text": [
      "0 -63.9776496887207 95.98396301269531\n",
      "2000 -24.46881866455078 -6.436469554901123\n",
      "4000 -34.75173568725586 25.02072525024414\n",
      "6000 -29.781246185302734 32.695308685302734\n",
      "8000 -39.9375 33.65644836425781\n",
      "10000 -55.54482650756836 47.48664093017578\n",
      "12000 -47.824214935302734 47.48436737060547\n",
      "14000 -43.078121185302734 51.33983612060547\n",
      "16000 -50.5703125 48.99609375\n",
      "18000 -51.0625 48.5625\n",
      "20000 -51.484375 56.3671875\n",
      "22000 -46.6171875 57.41015625\n",
      "24000 -51.203121185302734 63.09374237060547\n",
      "26000 -54.624996185302734 61.72264862060547\n",
      "28000 -49.781246185302734 68.13275146484375\n",
      "30000 -53.56617736816406 69.83787536621094\n",
      "32000 -52.937496185302734 70.41796112060547\n",
      "34000 -54.546871185302734 72.17071533203125\n",
      "36000 -54.9765625 70.16600799560547\n",
      "38000 -54.343746185302734 72.45116424560547\n",
      "40000 -55.796871185302734 73.73435974121094\n",
      "42000 -54.820308685302734 75.07030487060547\n",
      "44000 -56.093746185302734 78.46874237060547\n",
      "46000 -57.281246185302734 78.86717987060547\n",
      "48000 -58.624996185302734 75.33983612060547\n",
      "50000 -56.945308685302734 76.85155487060547\n",
      "52000 -56.031246185302734 79.06639862060547\n",
      "54000 -58.093746185302734 73.40989685058594\n",
      "56000 -59.624996185302734 75.37499237060547\n",
      "58000 -57.749996185302734 76.78124237060547\n",
      "60000 -59.624996185302734 76.31249237060547\n",
      "62000 -58.062496185302734 78.18749237060547\n",
      "64000 -57.082027435302734 77.95311737060547\n",
      "66000 -58.285152435302734 79.75780487060547\n",
      "68000 -57.195308685302734 78.53319549560547\n",
      "70000 -58.999996185302734 81.19335174560547\n",
      "72000 -59.499996185302734 80.24999237060547\n",
      "74000 -60.062496185302734 78.65038299560547\n",
      "76000 -60.308589935302734 83.81835174560547\n",
      "78000 -60.062496185302734 81.23436737060547\n",
      "80000 -59.324214935302734 81.60350799560547\n",
      "82000 -59.078121185302734 79.38866424560547\n",
      "84000 -59.999996185302734 80.24999237060547\n",
      "86000 -59.499996185302734 82.12499237060547\n",
      "88000 -61.71986389160156 80.98241424560547\n",
      "90000 -59.463951110839844 82.97460174560547\n",
      "92000 -60.062496185302734 83.20311737060547\n",
      "94000 -60.281246185302734 82.87499237060547\n",
      "96000 -60.277339935302734 81.56835174560547\n",
      "98000 -58.02734375 82.82225799560547\n",
      "100000 -59.949214935302734 80.27342987060547\n",
      "102000 -59.101558685302734 83.64842987060547\n",
      "104000 -58.515621185302734 84.29296112060547\n",
      "106000 -60.578125 83.42577362060547\n",
      "108000 -61.265621185302734 85.45311737060547\n",
      "110000 -60.679683685302734 84.28124237060547\n",
      "112000 -60.874996185302734 84.28124237060547\n",
      "114000 -60.874996185302734 82.23046112060547\n",
      "116000 -60.624996185302734 85.03124237060547\n",
      "118000 -59.499996185302734 85.31249237060547\n",
      "120000 -59.874996185302734 84.46874237060547\n",
      "122000 -62.917964935302734 90.68563842773438\n",
      "124000 -61.777339935302734 93.93749237060547\n",
      "126000 -63.140621185302734 95.22655487060547\n",
      "128000 -62.656246185302734 94.48827362060547\n",
      "130000 -63.160152435302734 94.99217987060547\n",
      "132000 -63.160152435302734 95.24413299560547\n",
      "134000 -63.999996185302734 95.99999237060547\n",
      "136000 -63.999996185302734 95.99999237060547\n",
      "138000 -63.832027435302734 95.74803924560547\n",
      "140000 -63.328121185302734 95.24413299560547\n",
      "142000 -63.015621185302734 95.49608612060547\n",
      "144000 -63.507808685302734 95.50780487060547\n",
      "146000 -63.640621185302734 95.75389862060547\n",
      "148000 -63.999996185302734 95.99999237060547\n",
      "150000 -63.839839935302734 95.99999237060547\n",
      "152000 -63.671871185302734 95.99999237060547\n",
      "154000 -63.835933685302734 95.99999237060547\n",
      "156000 -63.507808685302734 95.75389862060547\n",
      "158000 -61.171871185302734 87.25160217285156\n",
      "160000 -59.691402435302734 86.17382049560547\n",
      "162000 -59.464839935302734 86.92967987060547\n",
      "164000 -59.632808685302734 86.17382049560547\n",
      "166000 -61.144527435302734 86.85936737060547\n",
      "168000 -59.968746185302734 85.92186737060547\n",
      "170000 -61.476558685302734 86.20311737060547\n",
      "172000 -60.585933685302734 86.87108612060547\n",
      "174000 -60.851558685302734 89.23241424560547\n",
      "176000 -61.296875 88.85741424560547\n",
      "178000 -61.117183685302734 89.41405487060547\n",
      "180000 -61.230464935302734 88.01366424560547\n",
      "182000 -61.343746185302734 87.23436737060547\n",
      "184000 -60.992183685302734 88.82225799560547\n",
      "186000 -61.285152435302734 87.34569549560547\n",
      "188000 -60.390621185302734 87.59178924560547\n",
      "190000 -60.324214935302734 86.69530487060547\n",
      "192000 -61.476558685302734 87.43358612060547\n",
      "194000 -63.632808685302734 95.80663299560547\n",
      "196000 -60.499996185302734 89.24999237060547\n",
      "198000 -60.414058685302734 89.61327362060547\n",
      "200000 -60.972652435302734 88.14257049560547\n",
      "202000 -60.636714935302734 88.49999237060547\n",
      "204000 -61.160152435302734 88.82225799560547\n",
      "206000 -61.312496185302734 87.80858612060547\n",
      "208000 -61.832027435302734 89.45507049560547\n",
      "210000 -62.304683685302734 88.73436737060547\n",
      "212000 -61.195308685302734 89.47264862060547\n",
      "214000 -59.824214935302734 90.39840698242188\n",
      "216000 -61.382808685302734 88.87499237060547\n",
      "218000 -61.449214935302734 89.87694549560547\n",
      "220000 -61.753902435302734 89.68358612060547\n",
      "222000 -62.437496185302734 89.85350799560547\n",
      "224000 -61.761714935302734 90.09374237060547\n",
      "226000 -61.941402435302734 89.71288299560547\n",
      "228000 -61.902339935302734 89.77733612060547\n",
      "230000 -61.609371185302734 89.10936737060547\n",
      "232000 -61.378902435302734 89.27342987060547\n",
      "234000 -60.957027435302734 89.70116424560547\n",
      "236000 -61.753902435302734 90.10546112060547\n",
      "238000 -62.230464935302734 90.26952362060547\n",
      "240000 -61.656246185302734 90.42186737060547\n",
      "242000 -63.480464935302734 94.92772674560547\n",
      "244000 -62.019527435302734 90.81444549560547\n"
     ]
    },
    {
     "ename": "KeyboardInterrupt",
     "evalue": "",
     "output_type": "error",
     "traceback": [
      "\u001b[1;31m---------------------------------------------------------------------------\u001b[0m",
      "\u001b[1;31mKeyboardInterrupt\u001b[0m                         Traceback (most recent call last)",
      "Cell \u001b[1;32mIn[38], line 4\u001b[0m\n\u001b[0;32m      1\u001b[0m epochs \u001b[38;5;241m=\u001b[39m \u001b[38;5;241m1\u001b[39m\n\u001b[0;32m      2\u001b[0m \u001b[38;5;28;01mfor\u001b[39;00m t \u001b[38;5;129;01min\u001b[39;00m \u001b[38;5;28mrange\u001b[39m(epochs):\n\u001b[0;32m      3\u001b[0m     \u001b[38;5;66;03m#print(f\"Epoch {t+1}\\n-------------------------------\")\u001b[39;00m\n\u001b[1;32m----> 4\u001b[0m     training(dataloader, model, custom_loss1, optimizer)\n\u001b[0;32m      5\u001b[0m \u001b[38;5;28mprint\u001b[39m(\u001b[38;5;124m\"\u001b[39m\u001b[38;5;124mDone!\u001b[39m\u001b[38;5;124m\"\u001b[39m)\n",
      "Cell \u001b[1;32mIn[37], line 5\u001b[0m, in \u001b[0;36mtraining\u001b[1;34m(dataloader, model, loss_fn, optimizer)\u001b[0m\n\u001b[0;32m      3\u001b[0m model\u001b[38;5;241m.\u001b[39mtrain()\n\u001b[0;32m      4\u001b[0m \u001b[38;5;28;01mfor\u001b[39;00m batch, (current, right, wrong) \u001b[38;5;129;01min\u001b[39;00m \u001b[38;5;28menumerate\u001b[39m(dataloader):\n\u001b[1;32m----> 5\u001b[0m     current, right, wrong \u001b[38;5;241m=\u001b[39m current\u001b[38;5;241m.\u001b[39mto(device), right\u001b[38;5;241m.\u001b[39mto(device), wrong\u001b[38;5;241m.\u001b[39mto(device)\n\u001b[0;32m      7\u001b[0m     \u001b[38;5;66;03m# Compute prediction error\u001b[39;00m\n\u001b[0;32m      8\u001b[0m     pred \u001b[38;5;241m=\u001b[39m model(current)\n",
      "\u001b[1;31mKeyboardInterrupt\u001b[0m: "
     ]
    }
   ],
   "source": [
    "epochs = 1\n",
    "for t in range(epochs):\n",
    "    #print(f\"Epoch {t+1}\\n-------------------------------\")\n",
    "    training(dataloader, model, custom_loss1, optimizer)\n",
    "print(\"Done!\")"
   ]
  },
  {
   "cell_type": "code",
   "execution_count": null,
   "id": "10c1127f",
   "metadata": {},
   "outputs": [],
   "source": [
    "torch.save(model.state_dict(), \"model2.pth\")\n",
    "print(\"Saved PyTorch Model State to model.pth\")"
   ]
  },
  {
   "cell_type": "code",
   "execution_count": null,
   "id": "95fb3823",
   "metadata": {},
   "outputs": [],
   "source": []
  }
 ],
 "metadata": {
  "kernelspec": {
   "display_name": "Python 3 (ipykernel)",
   "language": "python",
   "name": "python3"
  },
  "language_info": {
   "codemirror_mode": {
    "name": "ipython",
    "version": 3
   },
   "file_extension": ".py",
   "mimetype": "text/x-python",
   "name": "python",
   "nbconvert_exporter": "python",
   "pygments_lexer": "ipython3",
   "version": "3.11.4"
  }
 },
 "nbformat": 4,
 "nbformat_minor": 5
}
