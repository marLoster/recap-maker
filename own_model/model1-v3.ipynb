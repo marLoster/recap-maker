{
 "cells": [
  {
   "cell_type": "code",
   "execution_count": 1,
   "id": "ccc2a6d6",
   "metadata": {},
   "outputs": [],
   "source": [
    "import torch\n",
    "import numpy as np\n",
    "import pandas as pd\n",
    "from torch import nn\n",
    "from torch.utils.data import DataLoader\n",
    "from torch.utils.data import Dataset\n",
    "from torchvision import datasets\n",
    "from torchvision.transforms import ToTensor\n",
    "from sklearn.model_selection import train_test_split"
   ]
  },
  {
   "cell_type": "code",
   "execution_count": 2,
   "id": "5182aded",
   "metadata": {},
   "outputs": [
    {
     "data": {
      "text/plain": [
       "True"
      ]
     },
     "execution_count": 2,
     "metadata": {},
     "output_type": "execute_result"
    }
   ],
   "source": [
    "torch.cuda.is_available()"
   ]
  },
  {
   "cell_type": "code",
   "execution_count": 3,
   "id": "7b17c81d",
   "metadata": {},
   "outputs": [],
   "source": [
    "vocab_size = len(np.load('data100keys.npy', allow_pickle=True))"
   ]
  },
  {
   "cell_type": "code",
   "execution_count": 4,
   "id": "08b03286",
   "metadata": {},
   "outputs": [],
   "source": [
    "cos = nn.CosineSimilarity(dim=0)"
   ]
  },
  {
   "cell_type": "code",
   "execution_count": 5,
   "id": "7e569a97",
   "metadata": {},
   "outputs": [],
   "source": [
    "cos1 = nn.CosineSimilarity(dim=1)"
   ]
  },
  {
   "cell_type": "code",
   "execution_count": 6,
   "id": "2b51d351",
   "metadata": {
    "scrolled": true
   },
   "outputs": [
    {
     "data": {
      "text/html": [
       "<div>\n",
       "<style scoped>\n",
       "    .dataframe tbody tr th:only-of-type {\n",
       "        vertical-align: middle;\n",
       "    }\n",
       "\n",
       "    .dataframe tbody tr th {\n",
       "        vertical-align: top;\n",
       "    }\n",
       "\n",
       "    .dataframe thead th {\n",
       "        text-align: right;\n",
       "    }\n",
       "</style>\n",
       "<table border=\"1\" class=\"dataframe\">\n",
       "  <thead>\n",
       "    <tr style=\"text-align: right;\">\n",
       "      <th></th>\n",
       "      <th>wrong</th>\n",
       "      <th>phrase</th>\n",
       "      <th>target</th>\n",
       "    </tr>\n",
       "  </thead>\n",
       "  <tbody>\n",
       "    <tr>\n",
       "      <th>0</th>\n",
       "      <td>4151</td>\n",
       "      <td>1487</td>\n",
       "      <td>133</td>\n",
       "    </tr>\n",
       "    <tr>\n",
       "      <th>1</th>\n",
       "      <td>3570</td>\n",
       "      <td>750</td>\n",
       "      <td>4803</td>\n",
       "    </tr>\n",
       "    <tr>\n",
       "      <th>2</th>\n",
       "      <td>4873</td>\n",
       "      <td>2770</td>\n",
       "      <td>2552</td>\n",
       "    </tr>\n",
       "    <tr>\n",
       "      <th>3</th>\n",
       "      <td>6062</td>\n",
       "      <td>3664</td>\n",
       "      <td>2908</td>\n",
       "    </tr>\n",
       "    <tr>\n",
       "      <th>4</th>\n",
       "      <td>4108</td>\n",
       "      <td>312</td>\n",
       "      <td>4253</td>\n",
       "    </tr>\n",
       "    <tr>\n",
       "      <th>...</th>\n",
       "      <td>...</td>\n",
       "      <td>...</td>\n",
       "      <td>...</td>\n",
       "    </tr>\n",
       "    <tr>\n",
       "      <th>34413425</th>\n",
       "      <td>3379</td>\n",
       "      <td>1737</td>\n",
       "      <td>461</td>\n",
       "    </tr>\n",
       "    <tr>\n",
       "      <th>34413426</th>\n",
       "      <td>1427</td>\n",
       "      <td>2150</td>\n",
       "      <td>2150</td>\n",
       "    </tr>\n",
       "    <tr>\n",
       "      <th>34413427</th>\n",
       "      <td>8854</td>\n",
       "      <td>3721</td>\n",
       "      <td>366</td>\n",
       "    </tr>\n",
       "    <tr>\n",
       "      <th>34413428</th>\n",
       "      <td>5275</td>\n",
       "      <td>133</td>\n",
       "      <td>9006</td>\n",
       "    </tr>\n",
       "    <tr>\n",
       "      <th>34413429</th>\n",
       "      <td>9090</td>\n",
       "      <td>1397</td>\n",
       "      <td>7374</td>\n",
       "    </tr>\n",
       "  </tbody>\n",
       "</table>\n",
       "<p>34413430 rows × 3 columns</p>\n",
       "</div>"
      ],
      "text/plain": [
       "         wrong phrase target\n",
       "0         4151   1487    133\n",
       "1         3570    750   4803\n",
       "2         4873   2770   2552\n",
       "3         6062   3664   2908\n",
       "4         4108    312   4253\n",
       "...        ...    ...    ...\n",
       "34413425  3379   1737    461\n",
       "34413426  1427   2150   2150\n",
       "34413427  8854   3721    366\n",
       "34413428  5275    133   9006\n",
       "34413429  9090   1397   7374\n",
       "\n",
       "[34413430 rows x 3 columns]"
      ]
     },
     "execution_count": 6,
     "metadata": {},
     "output_type": "execute_result"
    }
   ],
   "source": [
    "data = pd.read_csv('all_data.csv')\n",
    "data"
   ]
  },
  {
   "cell_type": "code",
   "execution_count": 7,
   "id": "72354048",
   "metadata": {},
   "outputs": [
    {
     "data": {
      "text/plain": [
       "['4151']"
      ]
     },
     "execution_count": 7,
     "metadata": {},
     "output_type": "execute_result"
    }
   ],
   "source": [
    "data.iloc[0]['wrong'].split(\" \")"
   ]
  },
  {
   "cell_type": "code",
   "execution_count": 8,
   "id": "3fffb671",
   "metadata": {},
   "outputs": [],
   "source": [
    "train, test = train_test_split(data, test_size=0.2, random_state=42)"
   ]
  },
  {
   "cell_type": "code",
   "execution_count": 9,
   "id": "3e462b37",
   "metadata": {},
   "outputs": [
    {
     "data": {
      "text/html": [
       "<div>\n",
       "<style scoped>\n",
       "    .dataframe tbody tr th:only-of-type {\n",
       "        vertical-align: middle;\n",
       "    }\n",
       "\n",
       "    .dataframe tbody tr th {\n",
       "        vertical-align: top;\n",
       "    }\n",
       "\n",
       "    .dataframe thead th {\n",
       "        text-align: right;\n",
       "    }\n",
       "</style>\n",
       "<table border=\"1\" class=\"dataframe\">\n",
       "  <thead>\n",
       "    <tr style=\"text-align: right;\">\n",
       "      <th></th>\n",
       "      <th>wrong</th>\n",
       "      <th>phrase</th>\n",
       "      <th>target</th>\n",
       "    </tr>\n",
       "  </thead>\n",
       "  <tbody>\n",
       "    <tr>\n",
       "      <th>30628697</th>\n",
       "      <td>2929</td>\n",
       "      <td>1619</td>\n",
       "      <td>939</td>\n",
       "    </tr>\n",
       "    <tr>\n",
       "      <th>16471403</th>\n",
       "      <td>8085</td>\n",
       "      <td>1730</td>\n",
       "      <td>52</td>\n",
       "    </tr>\n",
       "    <tr>\n",
       "      <th>19974707</th>\n",
       "      <td>9270</td>\n",
       "      <td>1983</td>\n",
       "      <td>7225</td>\n",
       "    </tr>\n",
       "    <tr>\n",
       "      <th>29207325</th>\n",
       "      <td>3204</td>\n",
       "      <td>229</td>\n",
       "      <td>1645</td>\n",
       "    </tr>\n",
       "    <tr>\n",
       "      <th>28431238</th>\n",
       "      <td>2238</td>\n",
       "      <td>4638</td>\n",
       "      <td>1172</td>\n",
       "    </tr>\n",
       "    <tr>\n",
       "      <th>...</th>\n",
       "      <td>...</td>\n",
       "      <td>...</td>\n",
       "      <td>...</td>\n",
       "    </tr>\n",
       "    <tr>\n",
       "      <th>29210711</th>\n",
       "      <td>2447</td>\n",
       "      <td>506</td>\n",
       "      <td>3610</td>\n",
       "    </tr>\n",
       "    <tr>\n",
       "      <th>26301898</th>\n",
       "      <td>6290</td>\n",
       "      <td>1980</td>\n",
       "      <td>29</td>\n",
       "    </tr>\n",
       "    <tr>\n",
       "      <th>26735830</th>\n",
       "      <td>3709</td>\n",
       "      <td>1314</td>\n",
       "      <td>1060</td>\n",
       "    </tr>\n",
       "    <tr>\n",
       "      <th>13315092</th>\n",
       "      <td>1458</td>\n",
       "      <td>2336</td>\n",
       "      <td>2231</td>\n",
       "    </tr>\n",
       "    <tr>\n",
       "      <th>21081788</th>\n",
       "      <td>8914</td>\n",
       "      <td>7745</td>\n",
       "      <td>5895</td>\n",
       "    </tr>\n",
       "  </tbody>\n",
       "</table>\n",
       "<p>27530744 rows × 3 columns</p>\n",
       "</div>"
      ],
      "text/plain": [
       "         wrong phrase target\n",
       "30628697  2929   1619    939\n",
       "16471403  8085   1730     52\n",
       "19974707  9270   1983   7225\n",
       "29207325  3204    229   1645\n",
       "28431238  2238   4638   1172\n",
       "...        ...    ...    ...\n",
       "29210711  2447    506   3610\n",
       "26301898  6290   1980     29\n",
       "26735830  3709   1314   1060\n",
       "13315092  1458   2336   2231\n",
       "21081788  8914   7745   5895\n",
       "\n",
       "[27530744 rows x 3 columns]"
      ]
     },
     "execution_count": 9,
     "metadata": {},
     "output_type": "execute_result"
    }
   ],
   "source": [
    "train"
   ]
  },
  {
   "cell_type": "code",
   "execution_count": 10,
   "id": "04ac4162",
   "metadata": {},
   "outputs": [],
   "source": [
    "def map_to_tensor(word_id):\n",
    "    word_id = word_id.split(\" \")\n",
    "    res = torch.zeros(vocab_size)\n",
    "    res[list(map(lambda x: int(x), word_id))] = 1\n",
    "    return res"
   ]
  },
  {
   "cell_type": "code",
   "execution_count": 11,
   "id": "d9302ba6",
   "metadata": {},
   "outputs": [],
   "source": [
    "class dataset_holder(Dataset):\n",
    "    def __init__(self,data):\n",
    "        self.data = data.reset_index(drop=True)\n",
    "\n",
    "    def __len__(self):\n",
    "        return len(self.data)\n",
    "\n",
    "    def __getitem__(self, idx):\n",
    "        row = self.data.iloc[idx]\n",
    "        phrase = row['phrase']\n",
    "        target = row['target']\n",
    "        wrong = row['wrong']\n",
    "\n",
    "        phrase = map_to_tensor(phrase)\n",
    "        target = map_to_tensor(target)\n",
    "        wrong = map_to_tensor(wrong)\n",
    "        \n",
    "        return phrase, target, wrong"
   ]
  },
  {
   "cell_type": "code",
   "execution_count": 12,
   "id": "b7db3d2b",
   "metadata": {},
   "outputs": [],
   "source": [
    "def custom_loss(output, correct, wrong):\n",
    "    return cos(output,wrong) - cos(output, correct) "
   ]
  },
  {
   "cell_type": "code",
   "execution_count": 13,
   "id": "f07fd4d7",
   "metadata": {},
   "outputs": [],
   "source": [
    "def custom_loss1(output, correct, wrong):\n",
    "    return cos1(output,wrong) - cos1(output, correct) + 1"
   ]
  },
  {
   "cell_type": "code",
   "execution_count": 14,
   "id": "5c46a8fc",
   "metadata": {},
   "outputs": [],
   "source": [
    "dataset = dataset_holder(train)\n",
    "\n",
    "dataloader = DataLoader(dataset, batch_size=64, shuffle=True)"
   ]
  },
  {
   "cell_type": "code",
   "execution_count": 15,
   "id": "d10ad7fc",
   "metadata": {},
   "outputs": [],
   "source": [
    "test_dataset = dataset_holder(test)\n",
    "\n",
    "test_dataloader = DataLoader(dataset, batch_size=64, shuffle=True)"
   ]
  },
  {
   "cell_type": "code",
   "execution_count": 16,
   "id": "95e993b1",
   "metadata": {},
   "outputs": [
    {
     "name": "stdout",
     "output_type": "stream",
     "text": [
      "Using cuda device\n"
     ]
    }
   ],
   "source": [
    "\n",
    "device = (\n",
    "    \"cuda\"\n",
    "    if torch.cuda.is_available()\n",
    "    else \"mps\"\n",
    "    if torch.backends.mps.is_available()\n",
    "    else \"cpu\"\n",
    ")\n",
    "print(f\"Using {device} device\")\n",
    "\n",
    "# Define model\n"
   ]
  },
  {
   "cell_type": "code",
   "execution_count": 17,
   "id": "9c4f2d65",
   "metadata": {},
   "outputs": [],
   "source": [
    "class NeuralNetwork(nn.Module):\n",
    "    def __init__(self):\n",
    "        super().__init__()\n",
    "        self.linear_relu_stack = nn.Sequential(\n",
    "            nn.Linear(vocab_size, 8192),\n",
    "            nn.ReLU(),\n",
    "            nn.Linear(8192, 8192),\n",
    "            nn.ReLU(),\n",
    "            nn.Linear(8192, 4096),\n",
    "            nn.ReLU(),\n",
    "            nn.Linear(4096, 2048),\n",
    "            nn.ReLU(),\n",
    "            nn.Linear(2048, 1024),\n",
    "            nn.ReLU(),\n",
    "            nn.Linear(1024, 512)\n",
    "        )\n",
    "\n",
    "    def forward(self, x):\n",
    "        logits = self.linear_relu_stack(x)\n",
    "        return logits\n"
   ]
  },
  {
   "cell_type": "code",
   "execution_count": 18,
   "id": "2244fdfb",
   "metadata": {},
   "outputs": [
    {
     "name": "stdout",
     "output_type": "stream",
     "text": [
      "NeuralNetwork(\n",
      "  (linear_relu_stack): Sequential(\n",
      "    (0): Linear(in_features=9395, out_features=8192, bias=True)\n",
      "    (1): ReLU()\n",
      "    (2): Linear(in_features=8192, out_features=8192, bias=True)\n",
      "    (3): ReLU()\n",
      "    (4): Linear(in_features=8192, out_features=4096, bias=True)\n",
      "    (5): ReLU()\n",
      "    (6): Linear(in_features=4096, out_features=2048, bias=True)\n",
      "    (7): ReLU()\n",
      "    (8): Linear(in_features=2048, out_features=1024, bias=True)\n",
      "    (9): ReLU()\n",
      "    (10): Linear(in_features=1024, out_features=512, bias=True)\n",
      "  )\n",
      ")\n"
     ]
    }
   ],
   "source": [
    "model = NeuralNetwork().to(device)\n",
    "print(model)\n",
    "\n",
    "loss_fn = custom_loss\n",
    "optimizer = torch.optim.Adam(model.parameters(), lr=1e-3)"
   ]
  },
  {
   "cell_type": "code",
   "execution_count": 19,
   "id": "22de6945",
   "metadata": {},
   "outputs": [
    {
     "data": {
      "text/plain": [
       "430167.875"
      ]
     },
     "execution_count": 19,
     "metadata": {},
     "output_type": "execute_result"
    }
   ],
   "source": [
    "27530744/64"
   ]
  },
  {
   "cell_type": "code",
   "execution_count": 20,
   "id": "2ba3edb1",
   "metadata": {},
   "outputs": [],
   "source": [
    "train.to_csv('train100.csv',index=False)\n",
    "test.to_csv('test100.csv',index=False)"
   ]
  },
  {
   "cell_type": "code",
   "execution_count": 21,
   "id": "72ed715a",
   "metadata": {},
   "outputs": [],
   "source": [
    "import os"
   ]
  },
  {
   "cell_type": "code",
   "execution_count": 22,
   "id": "ccc8f697",
   "metadata": {},
   "outputs": [],
   "source": [
    "def training(dataloader, model, loss_fn, optimizer):\n",
    "    size = len(dataloader.dataset)\n",
    "    model.train()\n",
    "    for batch, (current, right, wrong) in enumerate(dataloader):\n",
    "        current, right, wrong = current.to(device), right.to(device), wrong.to(device)\n",
    "\n",
    "        # Compute prediction error\n",
    "        pred = model(current)\n",
    "        pred_right = model(right)\n",
    "        pred_wrong = model(wrong)\n",
    "\n",
    "        loss = loss_fn(pred, pred_right, pred_wrong).sum()\n",
    "\n",
    "        # Backpropagation\n",
    "        loss.backward()\n",
    "        optimizer.step()\n",
    "        optimizer.zero_grad()\n",
    "\n",
    "        if batch % 2000 == 0:\n",
    "            print(batch, loss.item())\n",
    "            torch.save(model.state_dict(), f\"model1_{batch}.pth\")\n"
   ]
  },
  {
   "cell_type": "code",
   "execution_count": 23,
   "id": "42d8dd76",
   "metadata": {
    "scrolled": false
   },
   "outputs": [
    {
     "name": "stdout",
     "output_type": "stream",
     "text": [
      "0 63.999961853027344\n",
      "2000 63.99999237060547\n",
      "4000 39.999717712402344\n",
      "6000 47.88071823120117\n",
      "8000 39.99880599975586\n",
      "10000 39.999900817871094\n",
      "12000 40.03901290893555\n",
      "14000 62.000709533691406\n",
      "16000 23.999067306518555\n",
      "18000 21.99859619140625\n"
     ]
    },
    {
     "ename": "KeyboardInterrupt",
     "evalue": "",
     "output_type": "error",
     "traceback": [
      "\u001b[1;31m---------------------------------------------------------------------------\u001b[0m",
      "\u001b[1;31mKeyboardInterrupt\u001b[0m                         Traceback (most recent call last)",
      "Cell \u001b[1;32mIn[23], line 4\u001b[0m\n\u001b[0;32m      1\u001b[0m epochs \u001b[38;5;241m=\u001b[39m \u001b[38;5;241m1\u001b[39m\n\u001b[0;32m      2\u001b[0m \u001b[38;5;28;01mfor\u001b[39;00m t \u001b[38;5;129;01min\u001b[39;00m \u001b[38;5;28mrange\u001b[39m(epochs):\n\u001b[0;32m      3\u001b[0m     \u001b[38;5;66;03m#print(f\"Epoch {t+1}\\n-------------------------------\")\u001b[39;00m\n\u001b[1;32m----> 4\u001b[0m     training(dataloader, model, custom_loss1, optimizer)\n\u001b[0;32m      5\u001b[0m \u001b[38;5;28mprint\u001b[39m(\u001b[38;5;124m\"\u001b[39m\u001b[38;5;124mDone!\u001b[39m\u001b[38;5;124m\"\u001b[39m)\n",
      "Cell \u001b[1;32mIn[22], line 15\u001b[0m, in \u001b[0;36mtraining\u001b[1;34m(dataloader, model, loss_fn, optimizer)\u001b[0m\n\u001b[0;32m     12\u001b[0m loss \u001b[38;5;241m=\u001b[39m loss_fn(pred, pred_right, pred_wrong)\u001b[38;5;241m.\u001b[39msum()\n\u001b[0;32m     14\u001b[0m \u001b[38;5;66;03m# Backpropagation\u001b[39;00m\n\u001b[1;32m---> 15\u001b[0m loss\u001b[38;5;241m.\u001b[39mbackward()\n\u001b[0;32m     16\u001b[0m optimizer\u001b[38;5;241m.\u001b[39mstep()\n\u001b[0;32m     17\u001b[0m optimizer\u001b[38;5;241m.\u001b[39mzero_grad()\n",
      "File \u001b[1;32m~\\anaconda3\\envs\\recap\\Lib\\site-packages\\torch\\_tensor.py:487\u001b[0m, in \u001b[0;36mTensor.backward\u001b[1;34m(self, gradient, retain_graph, create_graph, inputs)\u001b[0m\n\u001b[0;32m    477\u001b[0m \u001b[38;5;28;01mif\u001b[39;00m has_torch_function_unary(\u001b[38;5;28mself\u001b[39m):\n\u001b[0;32m    478\u001b[0m     \u001b[38;5;28;01mreturn\u001b[39;00m handle_torch_function(\n\u001b[0;32m    479\u001b[0m         Tensor\u001b[38;5;241m.\u001b[39mbackward,\n\u001b[0;32m    480\u001b[0m         (\u001b[38;5;28mself\u001b[39m,),\n\u001b[1;32m   (...)\u001b[0m\n\u001b[0;32m    485\u001b[0m         inputs\u001b[38;5;241m=\u001b[39minputs,\n\u001b[0;32m    486\u001b[0m     )\n\u001b[1;32m--> 487\u001b[0m torch\u001b[38;5;241m.\u001b[39mautograd\u001b[38;5;241m.\u001b[39mbackward(\n\u001b[0;32m    488\u001b[0m     \u001b[38;5;28mself\u001b[39m, gradient, retain_graph, create_graph, inputs\u001b[38;5;241m=\u001b[39minputs\n\u001b[0;32m    489\u001b[0m )\n",
      "File \u001b[1;32m~\\anaconda3\\envs\\recap\\Lib\\site-packages\\torch\\autograd\\__init__.py:200\u001b[0m, in \u001b[0;36mbackward\u001b[1;34m(tensors, grad_tensors, retain_graph, create_graph, grad_variables, inputs)\u001b[0m\n\u001b[0;32m    195\u001b[0m     retain_graph \u001b[38;5;241m=\u001b[39m create_graph\n\u001b[0;32m    197\u001b[0m \u001b[38;5;66;03m# The reason we repeat same the comment below is that\u001b[39;00m\n\u001b[0;32m    198\u001b[0m \u001b[38;5;66;03m# some Python versions print out the first line of a multi-line function\u001b[39;00m\n\u001b[0;32m    199\u001b[0m \u001b[38;5;66;03m# calls in the traceback and some print out the last line\u001b[39;00m\n\u001b[1;32m--> 200\u001b[0m Variable\u001b[38;5;241m.\u001b[39m_execution_engine\u001b[38;5;241m.\u001b[39mrun_backward(  \u001b[38;5;66;03m# Calls into the C++ engine to run the backward pass\u001b[39;00m\n\u001b[0;32m    201\u001b[0m     tensors, grad_tensors_, retain_graph, create_graph, inputs,\n\u001b[0;32m    202\u001b[0m     allow_unreachable\u001b[38;5;241m=\u001b[39m\u001b[38;5;28;01mTrue\u001b[39;00m, accumulate_grad\u001b[38;5;241m=\u001b[39m\u001b[38;5;28;01mTrue\u001b[39;00m)\n",
      "\u001b[1;31mKeyboardInterrupt\u001b[0m: "
     ]
    }
   ],
   "source": [
    "epochs = 1\n",
    "for t in range(epochs):\n",
    "    #print(f\"Epoch {t+1}\\n-------------------------------\")\n",
    "    training(dataloader, model, custom_loss1, optimizer)\n",
    "print(\"Done!\")"
   ]
  },
  {
   "cell_type": "code",
   "execution_count": null,
   "id": "10c1127f",
   "metadata": {},
   "outputs": [],
   "source": [
    "torch.save(model.state_dict(), \"model1.pth\")\n",
    "print(\"Saved PyTorch Model State to model.pth\")"
   ]
  },
  {
   "cell_type": "code",
   "execution_count": null,
   "id": "95fb3823",
   "metadata": {},
   "outputs": [],
   "source": []
  }
 ],
 "metadata": {
  "kernelspec": {
   "display_name": "Python 3 (ipykernel)",
   "language": "python",
   "name": "python3"
  },
  "language_info": {
   "codemirror_mode": {
    "name": "ipython",
    "version": 3
   },
   "file_extension": ".py",
   "mimetype": "text/x-python",
   "name": "python",
   "nbconvert_exporter": "python",
   "pygments_lexer": "ipython3",
   "version": "3.11.4"
  }
 },
 "nbformat": 4,
 "nbformat_minor": 5
}
