{
 "cells": [
  {
   "cell_type": "code",
   "execution_count": 1,
   "id": "ccc2a6d6",
   "metadata": {},
   "outputs": [],
   "source": [
    "import torch\n",
    "import numpy as np\n",
    "import pandas as pd\n",
    "from torch import nn\n",
    "from torch.utils.data import DataLoader\n",
    "from torch.utils.data import Dataset\n",
    "from torchvision import datasets\n",
    "from torchvision.transforms import ToTensor\n",
    "from sklearn.model_selection import train_test_split"
   ]
  },
  {
   "cell_type": "code",
   "execution_count": 2,
   "id": "5182aded",
   "metadata": {},
   "outputs": [
    {
     "data": {
      "text/plain": [
       "True"
      ]
     },
     "execution_count": 2,
     "metadata": {},
     "output_type": "execute_result"
    }
   ],
   "source": [
    "torch.cuda.is_available()"
   ]
  },
  {
   "cell_type": "code",
   "execution_count": 3,
   "id": "7b17c81d",
   "metadata": {},
   "outputs": [],
   "source": [
    "vocab_size = len(np.load('data100keys.npy', allow_pickle=True))"
   ]
  },
  {
   "cell_type": "code",
   "execution_count": 4,
   "id": "08b03286",
   "metadata": {},
   "outputs": [],
   "source": [
    "cos = nn.CosineSimilarity(dim=0)"
   ]
  },
  {
   "cell_type": "code",
   "execution_count": 5,
   "id": "7e569a97",
   "metadata": {},
   "outputs": [],
   "source": [
    "cos1 = nn.CosineSimilarity(dim=1)"
   ]
  },
  {
   "cell_type": "code",
   "execution_count": 6,
   "id": "2b51d351",
   "metadata": {
    "scrolled": true
   },
   "outputs": [],
   "source": [
    "train = pd.read_csv('train100.csv')\n"
   ]
  },
  {
   "cell_type": "code",
   "execution_count": 7,
   "id": "04ac4162",
   "metadata": {},
   "outputs": [],
   "source": [
    "def map_to_tensor(word_id):\n",
    "    word_id = word_id.split(\" \")\n",
    "    res = torch.zeros(vocab_size)\n",
    "    res[list(map(lambda x: int(x), word_id))] = 1\n",
    "    return res"
   ]
  },
  {
   "cell_type": "code",
   "execution_count": 8,
   "id": "d9302ba6",
   "metadata": {},
   "outputs": [],
   "source": [
    "class dataset_holder(Dataset):\n",
    "    def __init__(self,data):\n",
    "        self.data = data.reset_index(drop=True)\n",
    "\n",
    "    def __len__(self):\n",
    "        return len(self.data)\n",
    "\n",
    "    def __getitem__(self, idx):\n",
    "        row = self.data.iloc[idx]\n",
    "        phrase = row['phrase']\n",
    "        target = row['target']\n",
    "        wrong = row['wrong']\n",
    "\n",
    "        phrase = map_to_tensor(phrase)\n",
    "        target = map_to_tensor(target)\n",
    "        wrong = map_to_tensor(wrong)\n",
    "        \n",
    "        return phrase, target, wrong"
   ]
  },
  {
   "cell_type": "code",
   "execution_count": 9,
   "id": "b7db3d2b",
   "metadata": {},
   "outputs": [],
   "source": [
    "def custom_loss(output, correct, wrong):\n",
    "    return cos(output,wrong) - cos(output, correct) "
   ]
  },
  {
   "cell_type": "code",
   "execution_count": 10,
   "id": "f07fd4d7",
   "metadata": {},
   "outputs": [],
   "source": [
    "def custom_loss1(output, correct, wrong):\n",
    "    return cos1(output,wrong) - cos1(output, correct) + 1"
   ]
  },
  {
   "cell_type": "code",
   "execution_count": 11,
   "id": "5c46a8fc",
   "metadata": {},
   "outputs": [],
   "source": [
    "dataset = dataset_holder(train)\n",
    "\n",
    "dataloader = DataLoader(dataset, batch_size=64, shuffle=True)"
   ]
  },
  {
   "cell_type": "code",
   "execution_count": 12,
   "id": "95e993b1",
   "metadata": {},
   "outputs": [
    {
     "name": "stdout",
     "output_type": "stream",
     "text": [
      "Using cuda device\n"
     ]
    }
   ],
   "source": [
    "\n",
    "device = (\n",
    "    \"cuda\"\n",
    "    if torch.cuda.is_available()\n",
    "    else \"mps\"\n",
    "    if torch.backends.mps.is_available()\n",
    "    else \"cpu\"\n",
    ")\n",
    "print(f\"Using {device} device\")\n",
    "\n",
    "# Define model\n"
   ]
  },
  {
   "cell_type": "code",
   "execution_count": 13,
   "id": "9c4f2d65",
   "metadata": {},
   "outputs": [],
   "source": [
    "class NeuralNetwork(nn.Module):\n",
    "    def __init__(self):\n",
    "        super().__init__()\n",
    "        self.linear_relu_stack = nn.Sequential(\n",
    "            nn.Linear(vocab_size, 8192),\n",
    "            nn.ReLU(),\n",
    "            nn.Linear(8192, 8192),\n",
    "            nn.ReLU(),\n",
    "            nn.Linear(8192, 4096),\n",
    "            nn.ReLU(),\n",
    "            nn.Linear(4096, 2048),\n",
    "            nn.ReLU(),\n",
    "            nn.Linear(2048, 1024),\n",
    "            nn.ReLU(),\n",
    "            nn.Linear(1024, 512)\n",
    "        )\n",
    "\n",
    "    def forward(self, x):\n",
    "        logits = self.linear_relu_stack(x)\n",
    "        return logits\n"
   ]
  },
  {
   "cell_type": "code",
   "execution_count": 14,
   "id": "2244fdfb",
   "metadata": {},
   "outputs": [
    {
     "name": "stdout",
     "output_type": "stream",
     "text": [
      "NeuralNetwork(\n",
      "  (linear_relu_stack): Sequential(\n",
      "    (0): Linear(in_features=9395, out_features=8192, bias=True)\n",
      "    (1): ReLU()\n",
      "    (2): Linear(in_features=8192, out_features=8192, bias=True)\n",
      "    (3): ReLU()\n",
      "    (4): Linear(in_features=8192, out_features=4096, bias=True)\n",
      "    (5): ReLU()\n",
      "    (6): Linear(in_features=4096, out_features=2048, bias=True)\n",
      "    (7): ReLU()\n",
      "    (8): Linear(in_features=2048, out_features=1024, bias=True)\n",
      "    (9): ReLU()\n",
      "    (10): Linear(in_features=1024, out_features=512, bias=True)\n",
      "  )\n",
      ")\n"
     ]
    }
   ],
   "source": [
    "model = NeuralNetwork().to(device)\n",
    "print(model)\n",
    "\n",
    "loss_fn = custom_loss\n",
    "optimizer = torch.optim.Adam(model.parameters(), lr=1e-3)"
   ]
  },
  {
   "cell_type": "code",
   "execution_count": 15,
   "id": "22de6945",
   "metadata": {},
   "outputs": [
    {
     "data": {
      "text/plain": [
       "430167.875"
      ]
     },
     "execution_count": 15,
     "metadata": {},
     "output_type": "execute_result"
    }
   ],
   "source": [
    "27530744/64"
   ]
  },
  {
   "cell_type": "code",
   "execution_count": 16,
   "id": "72ed715a",
   "metadata": {},
   "outputs": [],
   "source": [
    "import os"
   ]
  },
  {
   "cell_type": "code",
   "execution_count": 17,
   "id": "b17e1da3",
   "metadata": {},
   "outputs": [],
   "source": [
    "start_batch = 388000"
   ]
  },
  {
   "cell_type": "code",
   "execution_count": 18,
   "id": "ccc8f697",
   "metadata": {},
   "outputs": [],
   "source": [
    "def training(dataloader, model, loss_fn, optimizer):\n",
    "    size = len(dataloader.dataset)\n",
    "    model.train()\n",
    "    for batch, (current, right, wrong) in enumerate(dataloader):\n",
    "        if batch <= start_batch:\n",
    "            if batch % 10000 == 0:\n",
    "                print(batch)\n",
    "            continue\n",
    "        \n",
    "        current, right, wrong = current.to(device), right.to(device), wrong.to(device)\n",
    "\n",
    "        # Compute prediction error\n",
    "        pred = model(current)\n",
    "        pred_right = model(right)\n",
    "        pred_wrong = model(wrong)\n",
    "\n",
    "        loss = loss_fn(pred, pred_right, pred_wrong).sum()\n",
    "\n",
    "        # Backpropagation\n",
    "        loss.backward()\n",
    "        optimizer.step()\n",
    "        optimizer.zero_grad()\n",
    "\n",
    "        if batch % 2000 == 0:\n",
    "            print(batch, loss.item())\n",
    "            torch.save(model.state_dict(), f\"model1_{batch}.pth\")\n"
   ]
  },
  {
   "cell_type": "code",
   "execution_count": 19,
   "id": "7e743910",
   "metadata": {},
   "outputs": [
    {
     "data": {
      "text/plain": [
       "<All keys matched successfully>"
      ]
     },
     "execution_count": 19,
     "metadata": {},
     "output_type": "execute_result"
    }
   ],
   "source": [
    "model.load_state_dict(torch.load('model1_388000.pth'))"
   ]
  },
  {
   "cell_type": "code",
   "execution_count": 20,
   "id": "42d8dd76",
   "metadata": {
    "scrolled": false
   },
   "outputs": [
    {
     "name": "stdout",
     "output_type": "stream",
     "text": [
      "0\n",
      "10000\n",
      "20000\n",
      "30000\n",
      "40000\n",
      "50000\n",
      "60000\n",
      "70000\n",
      "80000\n",
      "90000\n",
      "100000\n",
      "110000\n",
      "120000\n",
      "130000\n",
      "140000\n",
      "150000\n",
      "160000\n",
      "170000\n",
      "180000\n",
      "190000\n",
      "200000\n",
      "210000\n",
      "220000\n",
      "230000\n",
      "240000\n",
      "250000\n",
      "260000\n",
      "270000\n",
      "280000\n",
      "290000\n",
      "300000\n",
      "310000\n",
      "320000\n",
      "330000\n",
      "340000\n",
      "350000\n",
      "360000\n",
      "370000\n",
      "380000\n",
      "390000 21.997217178344727\n",
      "392000 22.00008773803711\n",
      "394000 14.000761985778809\n",
      "396000 9.999151229858398\n",
      "398000 15.999038696289062\n",
      "400000 21.930986404418945\n",
      "402000 2.079652786254883\n",
      "404000 -1.3883275985717773\n",
      "406000 8.002119064331055\n",
      "408000 15.167200088500977\n",
      "410000 -3.9972333908081055\n",
      "412000 28.000564575195312\n",
      "414000 -5.9600934982299805\n",
      "416000 12.066399574279785\n",
      "418000 8.0001802444458\n",
      "420000 7.978611946105957\n",
      "422000 3.993929386138916\n",
      "424000 12.001989364624023\n",
      "426000 6.000189781188965\n",
      "428000 -3.998137950897217\n",
      "430000 32.000022888183594\n",
      "Done!\n"
     ]
    }
   ],
   "source": [
    "epochs = 1\n",
    "for t in range(epochs):\n",
    "    #print(f\"Epoch {t+1}\\n-------------------------------\")\n",
    "    training(dataloader, model, custom_loss1, optimizer)\n",
    "print(\"Done!\")"
   ]
  },
  {
   "cell_type": "code",
   "execution_count": 21,
   "id": "10c1127f",
   "metadata": {},
   "outputs": [
    {
     "name": "stdout",
     "output_type": "stream",
     "text": [
      "Saved PyTorch Model State to model.pth\n"
     ]
    }
   ],
   "source": [
    "torch.save(model.state_dict(), \"model1_done.pth\")\n",
    "print(\"Saved PyTorch Model State to model.pth\")"
   ]
  },
  {
   "cell_type": "code",
   "execution_count": null,
   "id": "95fb3823",
   "metadata": {},
   "outputs": [],
   "source": []
  }
 ],
 "metadata": {
  "kernelspec": {
   "display_name": "Python 3 (ipykernel)",
   "language": "python",
   "name": "python3"
  },
  "language_info": {
   "codemirror_mode": {
    "name": "ipython",
    "version": 3
   },
   "file_extension": ".py",
   "mimetype": "text/x-python",
   "name": "python",
   "nbconvert_exporter": "python",
   "pygments_lexer": "ipython3",
   "version": "3.11.4"
  }
 },
 "nbformat": 4,
 "nbformat_minor": 5
}
